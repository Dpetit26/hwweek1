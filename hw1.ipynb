{
 "cells": [
  {
   "cell_type": "code",
   "execution_count": 87,
   "id": "6ca338dc",
   "metadata": {},
   "outputs": [],
   "source": [
    "import sympy as sp\n",
    "import numpy as np\n",
    "import matrices as Matrix\n",
    "import matplotlib.pyplot as plt\n",
    "x, y, n = sp.symbols('x y n')\n",
    "form scipy.integrate import odeint"
   ]
  },
  {
   "cell_type": "code",
   "execution_count": 49,
   "id": "a2eb7d24",
   "metadata": {},
   "outputs": [
    {
     "data": {
      "text/latex": [
       "$\\displaystyle x^{2} + 2 x - 8$"
      ],
      "text/plain": [
       "x**2 + 2*x - 8"
      ]
     },
     "execution_count": 49,
     "metadata": {},
     "output_type": "execute_result"
    }
   ],
   "source": [
    "#Use sympy to solve the following questions 1. Solve the quadratic function x**2 + 2*x - 8\n",
    "f = x**2 + 2*x - 8\n",
    "f"
   ]
  },
  {
   "cell_type": "code",
   "execution_count": 55,
   "id": "6ec2ce35",
   "metadata": {},
   "outputs": [
    {
     "data": {
      "text/latex": [
       "$\\displaystyle \\left(x - 2\\right) \\left(x + 4\\right)$"
      ],
      "text/plain": [
       "(x - 2)*(x + 4)"
      ]
     },
     "execution_count": 55,
     "metadata": {},
     "output_type": "execute_result"
    }
   ],
   "source": [
    "f.factor()"
   ]
  },
  {
   "cell_type": "code",
   "execution_count": 56,
   "id": "4d49c5bd",
   "metadata": {},
   "outputs": [
    {
     "data": {
      "text/plain": [
       "[-4, 2]"
      ]
     },
     "execution_count": 56,
     "metadata": {},
     "output_type": "execute_result"
    }
   ],
   "source": [
    "sp.solve(f)"
   ]
  },
  {
   "cell_type": "code",
   "execution_count": 57,
   "id": "cea57e67",
   "metadata": {},
   "outputs": [
    {
     "data": {
      "text/plain": [
       "[-4, 2]"
      ]
     },
     "execution_count": 57,
     "metadata": {},
     "output_type": "execute_result"
    }
   ],
   "source": [
    "# 2. What is the function f(x) which is equal to its derivative?\n",
    "sp.solve(f, x)"
   ]
  },
  {
   "cell_type": "code",
   "execution_count": 61,
   "id": "71db8ac9",
   "metadata": {},
   "outputs": [
    {
     "data": {
      "text/latex": [
       "$\\displaystyle 2 x + 2$"
      ],
      "text/plain": [
       "2*x + 2"
      ]
     },
     "execution_count": 61,
     "metadata": {},
     "output_type": "execute_result"
    }
   ],
   "source": [
    "sp.diff(f, x)"
   ]
  },
  {
   "cell_type": "code",
   "execution_count": 62,
   "id": "4d865fd8",
   "metadata": {},
   "outputs": [
    {
     "data": {
      "text/latex": [
       "$\\displaystyle x^{3}$"
      ],
      "text/plain": [
       "x**3"
      ]
     },
     "execution_count": 62,
     "metadata": {},
     "output_type": "execute_result"
    }
   ],
   "source": [
    "# 3. Compute the area under f(x) = x**3 from x = 0 to x = 1\n",
    "f2 = x**3\n",
    "f2"
   ]
  },
  {
   "cell_type": "code",
   "execution_count": 74,
   "id": "5e6b789b",
   "metadata": {},
   "outputs": [
    {
     "data": {
      "text/latex": [
       "$\\displaystyle \\frac{1}{4}$"
      ],
      "text/plain": [
       "1/4"
      ]
     },
     "execution_count": 74,
     "metadata": {},
     "output_type": "execute_result"
    }
   ],
   "source": [
    "sp.integrate(f2, (x, 0, 1))"
   ]
  },
  {
   "cell_type": "code",
   "execution_count": 102,
   "id": "e9b3cb32",
   "metadata": {},
   "outputs": [
    {
     "data": {
      "text/latex": [
       "$\\displaystyle \\sum_{x=0}^{\\infty} \\frac{1}{x!}$"
      ],
      "text/plain": [
       "Sum(1/factorial(x), (x, 0, oo))"
      ]
     },
     "execution_count": 102,
     "metadata": {},
     "output_type": "execute_result"
    }
   ],
   "source": [
    "# 4. Calculate  ∞∑x=0(1/x!)\n",
    "sp.Sum(1/sp.factorial(x),(x,0,sp.oo))"
   ]
  },
  {
   "cell_type": "code",
   "execution_count": 103,
   "id": "1a0dc196",
   "metadata": {},
   "outputs": [
    {
     "data": {
      "text/latex": [
       "$\\displaystyle e$"
      ],
      "text/plain": [
       "E"
      ]
     },
     "execution_count": 103,
     "metadata": {},
     "output_type": "execute_result"
    }
   ],
   "source": [
    "sp.Sum(1/sp.factorial(x),(x,0,sp.oo)).doit()"
   ]
  },
  {
   "cell_type": "code",
   "execution_count": 104,
   "id": "5d2364b4",
   "metadata": {},
   "outputs": [
    {
     "data": {
      "text/latex": [
       "$\\displaystyle 2.71828182845905$"
      ],
      "text/plain": [
       "2.71828182845905"
      ]
     },
     "execution_count": 104,
     "metadata": {},
     "output_type": "execute_result"
    }
   ],
   "source": [
    "sp.Sum(1/sp.factorial(x),(x,0,sp.oo)).n()"
   ]
  },
  {
   "cell_type": "code",
   "execution_count": 107,
   "id": "02716657",
   "metadata": {},
   "outputs": [
    {
     "data": {
      "text/latex": [
       "$\\displaystyle \\left(1 + \\frac{1}{n}\\right)^{n}$"
      ],
      "text/plain": [
       "(1 + 1/n)**n"
      ]
     },
     "execution_count": 107,
     "metadata": {},
     "output_type": "execute_result"
    }
   ],
   "source": [
    "# 5. Calculate limn→∞ (1+1/n)**n\n",
    "sp.limit((1 + 1/n)**n, x, sp.oo)."
   ]
  },
  {
   "cell_type": "code",
   "execution_count": 111,
   "id": "2350f2f2",
   "metadata": {},
   "outputs": [
    {
     "data": {
      "text/latex": [
       "$\\displaystyle \\left(1.0 + \\frac{1}{n}\\right)^{n}$"
      ],
      "text/plain": [
       "(1.0 + 1/n)**n"
      ]
     },
     "execution_count": 111,
     "metadata": {},
     "output_type": "execute_result"
    }
   ],
   "source": [
    "sp.limit((1 + 1/n)**n, x, sp.oo).n()"
   ]
  },
  {
   "cell_type": "code",
   "execution_count": 114,
   "id": "0e715ee9",
   "metadata": {},
   "outputs": [
    {
     "data": {
      "text/latex": [
       "$\\displaystyle \\left[\\begin{matrix}2 & -3 & -8 & 7\\\\-2 & -1 & 2 & -7\\\\1 & 0 & -3 & 6\\end{matrix}\\right]$"
      ],
      "text/plain": [
       "Matrix([\n",
       "[ 2, -3, -8,  7],\n",
       "[-2, -1,  2, -7],\n",
       "[ 1,  0, -3,  6]])"
      ]
     },
     "execution_count": 114,
     "metadata": {},
     "output_type": "execute_result"
    }
   ],
   "source": [
    "# 6. flips the matrix through its diagonal \n",
    "sp.Matrix([[2, -3, -8, 7], [-2, -1, 2, -7], [1, 0, -3, 6]])"
   ]
  },
  {
   "cell_type": "code",
   "execution_count": 115,
   "id": "94ac9de1",
   "metadata": {},
   "outputs": [
    {
     "ename": "AttributeError",
     "evalue": "module 'sympy' has no attribute 'diagonal'",
     "output_type": "error",
     "traceback": [
      "\u001b[1;31m---------------------------------------------------------------------------\u001b[0m",
      "\u001b[1;31mAttributeError\u001b[0m                            Traceback (most recent call last)",
      "Cell \u001b[1;32mIn[115], line 1\u001b[0m\n\u001b[1;32m----> 1\u001b[0m \u001b[43msp\u001b[49m\u001b[38;5;241;43m.\u001b[39;49m\u001b[43mdiagonal\u001b[49m(Matrix)\n",
      "\u001b[1;31mAttributeError\u001b[0m: module 'sympy' has no attribute 'diagonal'"
     ]
    }
   ],
   "source": [
    "sp.diagonal"
   ]
  },
  {
   "cell_type": "code",
   "execution_count": 129,
   "id": "3a35aaa5",
   "metadata": {},
   "outputs": [
    {
     "data": {
      "text/latex": [
       "$\\displaystyle \\left[\\begin{matrix}1 & 0 & 0\\\\0 & 1 & 0\\\\0 & 0 & 1\\end{matrix}\\right]$"
      ],
      "text/plain": [
       "Matrix([\n",
       "[1, 0, 0],\n",
       "[0, 1, 0],\n",
       "[0, 0, 1]])"
      ]
     },
     "execution_count": 129,
     "metadata": {},
     "output_type": "execute_result"
    }
   ],
   "source": [
    "sp.Matrix([sp.eye(3)])"
   ]
  },
  {
   "cell_type": "code",
   "execution_count": 147,
   "id": "8761ad93",
   "metadata": {
    "scrolled": true
   },
   "outputs": [
    {
     "data": {
      "text/latex": [
       "$\\displaystyle \\left[\\begin{matrix}1 & 0 & 0\\\\3 & 1 & 0\\\\0 & 0 & 1\\end{matrix}\\right]$"
      ],
      "text/plain": [
       "Matrix([\n",
       "[1, 0, 0],\n",
       "[3, 1, 0],\n",
       "[0, 0, 1]])"
      ]
     },
     "execution_count": 147,
     "metadata": {},
     "output_type": "execute_result"
    }
   ],
   "source": [
    "sp.Matrix([[1,0,0], [3,1,0], [0,0,1]])\n"
   ]
  },
  {
   "cell_type": "code",
   "execution_count": 148,
   "id": "3f04d771",
   "metadata": {},
   "outputs": [
    {
     "data": {
      "text/plain": [
       "<function sympy.matrices.matrices.MatrixDeterminant.det(self, method='bareiss', iszerofunc=None)>"
      ]
     },
     "execution_count": 148,
     "metadata": {},
     "output_type": "execute_result"
    }
   ],
   "source": [
    "sp.Matrix.det"
   ]
  },
  {
   "cell_type": "code",
   "execution_count": 152,
   "id": "6dc88156",
   "metadata": {},
   "outputs": [
    {
     "data": {
      "text/latex": [
       "$\\displaystyle \\left[\\begin{matrix}2\\\\0\\\\3\\end{matrix}\\right]$"
      ],
      "text/plain": [
       "Matrix([\n",
       "[2],\n",
       "[0],\n",
       "[3]])"
      ]
     },
     "execution_count": 152,
     "metadata": {},
     "output_type": "execute_result"
    }
   ],
   "source": [
    "row1 = sp.Matrix([1,0,0])\n",
    "row2 = sp.Matrix([0,0,3])\n",
    "row0 = sp.Matrix([1,0,0])\n",
    "sp.Matrix(row0 + row1 + row2)"
   ]
  },
  {
   "cell_type": "code",
   "execution_count": 154,
   "id": "56e73e30",
   "metadata": {
    "scrolled": true
   },
   "outputs": [
    {
     "ename": "SyntaxError",
     "evalue": "invalid syntax (2378917211.py, line 20)",
     "output_type": "error",
     "traceback": [
      "\u001b[1;36m  Cell \u001b[1;32mIn[154], line 20\u001b[1;36m\u001b[0m\n\u001b[1;33m    line1, = ax1.plot(t,y[:,0,], color \"b\")\u001b[0m\n\u001b[1;37m                                       ^\u001b[0m\n\u001b[1;31mSyntaxError\u001b[0m\u001b[1;31m:\u001b[0m invalid syntax\n"
     ]
    }
   ],
   "source": [
    "#10. Implement the Predator-prey model in python\n",
    "y0 = [1000, 100]\n",
    "t = np.linspace(0,50, num=1000)\n",
    "alpha = 1.1\n",
    "beta = 0.4\n",
    "delta = 0.1\n",
    "gamma = 0.4\n",
    "params = [alpha, beta, delta, gamma]\n",
    "def sim(variables, t, parems):\n",
    "    x = variables[1]\n",
    "    alpha = params[0]\n",
    "    beta = params[1]\n",
    "    delta = params[2]\n",
    "    gamma = params[3]\n",
    "    dxdt = alpha * x - beta * x * y\n",
    "    dydt = delta * x * y - gamma * yreturn([dxdt, dydt])\n",
    "    y = odeint (sim, y0, t, args=(params,))\n",
    "    \n",
    "    f, (ax1, ax2)= plt.subplots(2)\n",
    "    line1, = ax1.plot(t,y[:,0,], color \"b\")\n",
    "    line2, = ax1.plot(t,y[:,1,], color \"r\")\n",
    "    ax1.set_ylabe(\"fish(hunderds)\")\n",
    "    ax2.set_ylabe(\"bear(hunderds)\")\n",
    "    ax2.set_ylabe(\"Time\")\n",
    "    plt.chow()\n",
    "    y.py"
   ]
  },
  {
   "cell_type": "code",
   "execution_count": 160,
   "id": "cad41b91",
   "metadata": {},
   "outputs": [
    {
     "ename": "NameError",
     "evalue": "name 'eig' is not defined",
     "output_type": "error",
     "traceback": [
      "\u001b[1;31m---------------------------------------------------------------------------\u001b[0m",
      "\u001b[1;31mNameError\u001b[0m                                 Traceback (most recent call last)",
      "Cell \u001b[1;32mIn[160], line 2\u001b[0m\n\u001b[0;32m      1\u001b[0m sp\u001b[38;5;241m.\u001b[39mMatrix([[\u001b[38;5;241m9\u001b[39m, \u001b[38;5;241m-\u001b[39m\u001b[38;5;241m2\u001b[39m], [\u001b[38;5;241m-\u001b[39m\u001b[38;5;241m2\u001b[39m, \u001b[38;5;241m6\u001b[39m]])\n\u001b[1;32m----> 2\u001b[0m value \u001b[38;5;241m=\u001b[39m \u001b[43meig\u001b[49m(sp\u001b[38;5;241m.\u001b[39mMatrix)\n",
      "\u001b[1;31mNameError\u001b[0m: name 'eig' is not defined"
     ]
    }
   ],
   "source": [
    "sp.Matrix([[9, -2], [-2, 6]])\n",
    "value = eig(sp.Matrix)\n"
   ]
  },
  {
   "cell_type": "code",
   "execution_count": null,
   "id": "2fde680a",
   "metadata": {},
   "outputs": [],
   "source": []
  }
 ],
 "metadata": {
  "kernelspec": {
   "display_name": "Python 3 (ipykernel)",
   "language": "python",
   "name": "python3"
  },
  "language_info": {
   "codemirror_mode": {
    "name": "ipython",
    "version": 3
   },
   "file_extension": ".py",
   "mimetype": "text/x-python",
   "name": "python",
   "nbconvert_exporter": "python",
   "pygments_lexer": "ipython3",
   "version": "3.10.9"
  }
 },
 "nbformat": 4,
 "nbformat_minor": 5
}
